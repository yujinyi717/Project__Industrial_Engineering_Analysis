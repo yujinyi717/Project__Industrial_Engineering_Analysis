{
 "cells": [
  {
   "cell_type": "code",
   "execution_count": 7,
   "metadata": {},
   "outputs": [],
   "source": [
    "import numpy as np\n",
    "import pandas as pd\n",
    "import re\n",
    "import datetime"
   ]
  },
  {
   "cell_type": "markdown",
   "metadata": {},
   "source": [
    "## 오르비 전처리"
   ]
  },
  {
   "cell_type": "code",
   "execution_count": 8,
   "metadata": {},
   "outputs": [],
   "source": [
    "data = pd.read_csv('./orbi_IE_final.csv')\n",
    "data = data.drop(columns=['Unnamed: 0'])"
   ]
  },
  {
   "cell_type": "code",
   "execution_count": 9,
   "metadata": {},
   "outputs": [],
   "source": [
    "new_date = []\n",
    "for i in data['date']:\n",
    "    new_date.append(i.split('\\n')[1][:-6])"
   ]
  },
  {
   "cell_type": "code",
   "execution_count": 10,
   "metadata": {},
   "outputs": [],
   "source": [
    "date_list = []\n",
    "for i in new_date:\n",
    "    if re.search(' 01',i):\n",
    "        j = i.replace(' 01', ' 21/01')\n",
    "        date_list.append(j)\n",
    "    else : \n",
    "        date_list.append(i)"
   ]
  },
  {
   "cell_type": "code",
   "execution_count": 11,
   "metadata": {},
   "outputs": [],
   "source": [
    "data = data.drop(columns=['date'])"
   ]
  },
  {
   "cell_type": "code",
   "execution_count": 12,
   "metadata": {},
   "outputs": [],
   "source": [
    "date = []\n",
    "for i in date_list:\n",
    "    dt = i.replace(' ','20')\n",
    "    dt = dt.replace('/','-')\n",
    "    dt = pd.to_datetime(dt)\n",
    "    date.append(dt)"
   ]
  },
  {
   "cell_type": "code",
   "execution_count": 13,
   "metadata": {},
   "outputs": [],
   "source": [
    "data['date'] = date"
   ]
  },
  {
   "cell_type": "code",
   "execution_count": 14,
   "metadata": {},
   "outputs": [],
   "source": [
    "data['platform_num'] = [5 for i in range(len(data['content']))]"
   ]
  },
  {
   "cell_type": "code",
   "execution_count": 15,
   "metadata": {},
   "outputs": [],
   "source": [
    "df = data.reindex(columns=['platform_num','date','content'])"
   ]
  },
  {
   "cell_type": "code",
   "execution_count": 16,
   "metadata": {},
   "outputs": [
    {
     "data": {
      "text/html": [
       "<div>\n",
       "<style scoped>\n",
       "    .dataframe tbody tr th:only-of-type {\n",
       "        vertical-align: middle;\n",
       "    }\n",
       "\n",
       "    .dataframe tbody tr th {\n",
       "        vertical-align: top;\n",
       "    }\n",
       "\n",
       "    .dataframe thead th {\n",
       "        text-align: right;\n",
       "    }\n",
       "</style>\n",
       "<table border=\"1\" class=\"dataframe\">\n",
       "  <thead>\n",
       "    <tr style=\"text-align: right;\">\n",
       "      <th></th>\n",
       "      <th>platform_num</th>\n",
       "      <th>date</th>\n",
       "      <th>content</th>\n",
       "    </tr>\n",
       "  </thead>\n",
       "  <tbody>\n",
       "    <tr>\n",
       "      <th>0</th>\n",
       "      <td>5</td>\n",
       "      <td>2021-01-23</td>\n",
       "      <td>\\n아주대 전화기 중 하나 재학했던 학생인데 아주대 관심 있는 학생들한테 혹시 도움...</td>\n",
       "    </tr>\n",
       "    <tr>\n",
       "      <th>1</th>\n",
       "      <td>5</td>\n",
       "      <td>2021-01-23</td>\n",
       "      <td>\\n네임밸류 포기하고 낮은 대학 산공 쓰면..산공의 뜬다 그래도 대우 받는 학벌은설...</td>\n",
       "    </tr>\n",
       "    <tr>\n",
       "      <th>2</th>\n",
       "      <td>5</td>\n",
       "      <td>2021-01-19</td>\n",
       "      <td>\\n컴공을 못간다면 산공 복수전공후에 it계열을 준비해보고 싶은데\\n</td>\n",
       "    </tr>\n",
       "    <tr>\n",
       "      <th>3</th>\n",
       "      <td>5</td>\n",
       "      <td>2021-01-17</td>\n",
       "      <td>\\n23학번 보내줘\\n</td>\n",
       "    </tr>\n",
       "    <tr>\n",
       "      <th>4</th>\n",
       "      <td>5</td>\n",
       "      <td>2021-01-17</td>\n",
       "      <td>\\n제대로 대학 교육을 받지 않은 분들이 항상 하는 말이 있다.\"대학이라는게 별거 ...</td>\n",
       "    </tr>\n",
       "    <tr>\n",
       "      <th>...</th>\n",
       "      <td>...</td>\n",
       "      <td>...</td>\n",
       "      <td>...</td>\n",
       "    </tr>\n",
       "    <tr>\n",
       "      <th>2144</th>\n",
       "      <td>5</td>\n",
       "      <td>2019-01-24</td>\n",
       "      <td>\\n관리자에 의해 삭제된 댓글입니다.\\n</td>\n",
       "    </tr>\n",
       "    <tr>\n",
       "      <th>2145</th>\n",
       "      <td>5</td>\n",
       "      <td>2019-01-24</td>\n",
       "      <td>\\n의견 감사합니다\\n</td>\n",
       "    </tr>\n",
       "    <tr>\n",
       "      <th>2146</th>\n",
       "      <td>5</td>\n",
       "      <td>2019-01-24</td>\n",
       "      <td>\\n수시의 문제점...\\n</td>\n",
       "    </tr>\n",
       "    <tr>\n",
       "      <th>2147</th>\n",
       "      <td>5</td>\n",
       "      <td>2019-01-22</td>\n",
       "      <td>\\n빅데이터나 인공지능. 머신러닝. 딥러닝 대부부은 학사는 잘 취급안해줘요 ㅠㅠㅠ ...</td>\n",
       "    </tr>\n",
       "    <tr>\n",
       "      <th>2148</th>\n",
       "      <td>5</td>\n",
       "      <td>2019-01-22</td>\n",
       "      <td>\\nstay...\\n</td>\n",
       "    </tr>\n",
       "  </tbody>\n",
       "</table>\n",
       "<p>2149 rows × 3 columns</p>\n",
       "</div>"
      ],
      "text/plain": [
       "      platform_num       date  \\\n",
       "0                5 2021-01-23   \n",
       "1                5 2021-01-23   \n",
       "2                5 2021-01-19   \n",
       "3                5 2021-01-17   \n",
       "4                5 2021-01-17   \n",
       "...            ...        ...   \n",
       "2144             5 2019-01-24   \n",
       "2145             5 2019-01-24   \n",
       "2146             5 2019-01-24   \n",
       "2147             5 2019-01-22   \n",
       "2148             5 2019-01-22   \n",
       "\n",
       "                                                content  \n",
       "0     \\n아주대 전화기 중 하나 재학했던 학생인데 아주대 관심 있는 학생들한테 혹시 도움...  \n",
       "1     \\n네임밸류 포기하고 낮은 대학 산공 쓰면..산공의 뜬다 그래도 대우 받는 학벌은설...  \n",
       "2                \\n컴공을 못간다면 산공 복수전공후에 it계열을 준비해보고 싶은데\\n  \n",
       "3                                          \\n23학번 보내줘\\n  \n",
       "4     \\n제대로 대학 교육을 받지 않은 분들이 항상 하는 말이 있다.\"대학이라는게 별거 ...  \n",
       "...                                                 ...  \n",
       "2144                             \\n관리자에 의해 삭제된 댓글입니다.\\n  \n",
       "2145                                       \\n의견 감사합니다\\n  \n",
       "2146                                     \\n수시의 문제점...\\n  \n",
       "2147  \\n빅데이터나 인공지능. 머신러닝. 딥러닝 대부부은 학사는 잘 취급안해줘요 ㅠㅠㅠ ...  \n",
       "2148                                        \\nstay...\\n  \n",
       "\n",
       "[2149 rows x 3 columns]"
      ]
     },
     "execution_count": 16,
     "metadata": {},
     "output_type": "execute_result"
    }
   ],
   "source": [
    "df"
   ]
  },
  {
   "cell_type": "code",
   "execution_count": null,
   "metadata": {},
   "outputs": [],
   "source": [
    "df.to_csv('./orbi.csv')"
   ]
  },
  {
   "cell_type": "code",
   "execution_count": null,
   "metadata": {},
   "outputs": [],
   "source": []
  },
  {
   "cell_type": "code",
   "execution_count": null,
   "metadata": {},
   "outputs": [],
   "source": []
  },
  {
   "cell_type": "code",
   "execution_count": null,
   "metadata": {},
   "outputs": [],
   "source": []
  },
  {
   "cell_type": "markdown",
   "metadata": {},
   "source": [
    "# 네이버 카페 전처리"
   ]
  },
  {
   "cell_type": "code",
   "execution_count": 2,
   "metadata": {},
   "outputs": [],
   "source": [
    "dd = pd.read_csv('./dokchi_final.csv')\n",
    "dd = dd.drop(columns='Unnamed: 0')"
   ]
  },
  {
   "cell_type": "code",
   "execution_count": 3,
   "metadata": {},
   "outputs": [],
   "source": [
    "ss = pd.read_csv('./specup_final.csv')\n",
    "ss = ss.drop(columns='Unnamed: 0')"
   ]
  },
  {
   "cell_type": "code",
   "execution_count": 20,
   "metadata": {},
   "outputs": [],
   "source": [
    "ds = dd.append(ss)"
   ]
  },
  {
   "cell_type": "code",
   "execution_count": 25,
   "metadata": {},
   "outputs": [],
   "source": [
    "cafe_date = []\n",
    "for i in ds['date']:\n",
    "    k = i.split(' ')[0][:-1]\n",
    "    k = k.replace('.','/')\n",
    "    k = pd.to_datetime(k)\n",
    "    cafe_date.append(k)"
   ]
  },
  {
   "cell_type": "code",
   "execution_count": 27,
   "metadata": {},
   "outputs": [],
   "source": [
    "ds['date'] = cafe_date"
   ]
  },
  {
   "cell_type": "code",
   "execution_count": 31,
   "metadata": {},
   "outputs": [],
   "source": [
    "ds['platform_num'] = [7 for i in range(len(ds['content']))]"
   ]
  },
  {
   "cell_type": "code",
   "execution_count": 33,
   "metadata": {},
   "outputs": [],
   "source": [
    "ds = ds.reindex(columns=['platform_num','date','content'])"
   ]
  },
  {
   "cell_type": "code",
   "execution_count": 37,
   "metadata": {},
   "outputs": [
    {
     "data": {
      "text/html": [
       "<div>\n",
       "<style scoped>\n",
       "    .dataframe tbody tr th:only-of-type {\n",
       "        vertical-align: middle;\n",
       "    }\n",
       "\n",
       "    .dataframe tbody tr th {\n",
       "        vertical-align: top;\n",
       "    }\n",
       "\n",
       "    .dataframe thead th {\n",
       "        text-align: right;\n",
       "    }\n",
       "</style>\n",
       "<table border=\"1\" class=\"dataframe\">\n",
       "  <thead>\n",
       "    <tr style=\"text-align: right;\">\n",
       "      <th></th>\n",
       "      <th>platform_num</th>\n",
       "      <th>date</th>\n",
       "      <th>content</th>\n",
       "    </tr>\n",
       "  </thead>\n",
       "  <tbody>\n",
       "    <tr>\n",
       "      <th>0</th>\n",
       "      <td>7</td>\n",
       "      <td>2020-12-02</td>\n",
       "      <td>25살 산업공학과 스펙 평가 부탁드립니다..!</td>\n",
       "    </tr>\n",
       "    <tr>\n",
       "      <th>1</th>\n",
       "      <td>7</td>\n",
       "      <td>2021-08-19</td>\n",
       "      <td>산업공학과에서 전공 이점 살릴수 있는 IT직무가 있을까요??</td>\n",
       "    </tr>\n",
       "    <tr>\n",
       "      <th>2</th>\n",
       "      <td>7</td>\n",
       "      <td>2020-07-07</td>\n",
       "      <td>문과대인데 산업공학과 복수전공</td>\n",
       "    </tr>\n",
       "    <tr>\n",
       "      <th>3</th>\n",
       "      <td>7</td>\n",
       "      <td>2021-12-23</td>\n",
       "      <td>산업공학과는 취업잘되요?</td>\n",
       "    </tr>\n",
       "    <tr>\n",
       "      <th>4</th>\n",
       "      <td>7</td>\n",
       "      <td>2021-01-18</td>\n",
       "      <td>산업공학과는 어디로 가야할까요</td>\n",
       "    </tr>\n",
       "    <tr>\n",
       "      <th>...</th>\n",
       "      <td>...</td>\n",
       "      <td>...</td>\n",
       "      <td>...</td>\n",
       "    </tr>\n",
       "    <tr>\n",
       "      <th>137</th>\n",
       "      <td>7</td>\n",
       "      <td>2021-03-02</td>\n",
       "      <td>{'reply': '데이터분석이요', 'thread': '1-0'}</td>\n",
       "    </tr>\n",
       "    <tr>\n",
       "      <th>138</th>\n",
       "      <td>7</td>\n",
       "      <td>2021-03-02</td>\n",
       "      <td>{'reply': '제가아는 지인분도 IT쪽 간다고 자격증 여러개 땃는데 면접 가서...</td>\n",
       "    </tr>\n",
       "    <tr>\n",
       "      <th>139</th>\n",
       "      <td>7</td>\n",
       "      <td>2021-03-02</td>\n",
       "      <td>{'reply': 'it 전략, 기획 분야, 정보시스템 운영으로 정보처리기사 우대하...</td>\n",
       "    </tr>\n",
       "    <tr>\n",
       "      <th>140</th>\n",
       "      <td>7</td>\n",
       "      <td>2020-04-17</td>\n",
       "      <td>{'reply': '보통은 정보처리기사를 먼저 획득을해서 많은 곳을 다방면으로 지원...</td>\n",
       "    </tr>\n",
       "    <tr>\n",
       "      <th>141</th>\n",
       "      <td>7</td>\n",
       "      <td>2020-04-17</td>\n",
       "      <td>{'reply': '데이터 분석 업무도 할 수 있어요', 'thread': '3-0'}</td>\n",
       "    </tr>\n",
       "  </tbody>\n",
       "</table>\n",
       "<p>207 rows × 3 columns</p>\n",
       "</div>"
      ],
      "text/plain": [
       "     platform_num       date  \\\n",
       "0               7 2020-12-02   \n",
       "1               7 2021-08-19   \n",
       "2               7 2020-07-07   \n",
       "3               7 2021-12-23   \n",
       "4               7 2021-01-18   \n",
       "..            ...        ...   \n",
       "137             7 2021-03-02   \n",
       "138             7 2021-03-02   \n",
       "139             7 2021-03-02   \n",
       "140             7 2020-04-17   \n",
       "141             7 2020-04-17   \n",
       "\n",
       "                                               content  \n",
       "0                            25살 산업공학과 스펙 평가 부탁드립니다..!  \n",
       "1                    산업공학과에서 전공 이점 살릴수 있는 IT직무가 있을까요??  \n",
       "2                                     문과대인데 산업공학과 복수전공  \n",
       "3                                        산업공학과는 취업잘되요?  \n",
       "4                                     산업공학과는 어디로 가야할까요  \n",
       "..                                                 ...  \n",
       "137              {'reply': '데이터분석이요', 'thread': '1-0'}  \n",
       "138  {'reply': '제가아는 지인분도 IT쪽 간다고 자격증 여러개 땃는데 면접 가서...  \n",
       "139  {'reply': 'it 전략, 기획 분야, 정보시스템 운영으로 정보처리기사 우대하...  \n",
       "140  {'reply': '보통은 정보처리기사를 먼저 획득을해서 많은 곳을 다방면으로 지원...  \n",
       "141   {'reply': '데이터 분석 업무도 할 수 있어요', 'thread': '3-0'}  \n",
       "\n",
       "[207 rows x 3 columns]"
      ]
     },
     "execution_count": 37,
     "metadata": {},
     "output_type": "execute_result"
    }
   ],
   "source": [
    "ds"
   ]
  },
  {
   "cell_type": "code",
   "execution_count": 39,
   "metadata": {},
   "outputs": [],
   "source": [
    "ds.to_csv('./cafe.csv')"
   ]
  },
  {
   "cell_type": "code",
   "execution_count": 52,
   "metadata": {},
   "outputs": [],
   "source": []
  }
 ],
 "metadata": {
  "kernelspec": {
   "display_name": "Python 3",
   "language": "python",
   "name": "python3"
  },
  "language_info": {
   "codemirror_mode": {
    "name": "ipython",
    "version": 3
   },
   "file_extension": ".py",
   "mimetype": "text/x-python",
   "name": "python",
   "nbconvert_exporter": "python",
   "pygments_lexer": "ipython3",
   "version": "3.8.5"
  }
 },
 "nbformat": 4,
 "nbformat_minor": 4
}
